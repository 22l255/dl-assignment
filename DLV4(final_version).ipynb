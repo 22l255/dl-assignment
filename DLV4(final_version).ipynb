{
  "nbformat": 4,
  "nbformat_minor": 0,
  "metadata": {
    "colab": {
      "provenance": []
    },
    "kernelspec": {
      "name": "python3",
      "display_name": "Python 3"
    },
    "language_info": {
      "name": "python"
    }
  },
  "cells": [
    {
      "cell_type": "code",
      "execution_count": null,
      "metadata": {
        "colab": {
          "base_uri": "https://localhost:8080/"
        },
        "id": "RSVb56-HtAgA",
        "outputId": "99450e57-7cd0-4519-e612-46e7c270b9ff"
      },
      "outputs": [
        {
          "metadata": {
            "tags": null
          },
          "name": "stdout",
          "output_type": "stream",
          "text": [
            "🔗 ngrok tunnel URL: NgrokTunnel: \"https://2124-34-91-130-236.ngrok-free.app\" -> \"http://localhost:5000\"\n",
            "🖥️ Using device: cpu\n",
            " * Serving Flask app '__main__'\n",
            " * Debug mode: on\n"
          ]
        },
        {
          "metadata": {
            "tags": null
          },
          "name": "stderr",
          "output_type": "stream",
          "text": [
            "INFO:werkzeug:\u001b[31m\u001b[1mWARNING: This is a development server. Do not use it in a production deployment. Use a production WSGI server instead.\u001b[0m\n",
            " * Running on http://127.0.0.1:5000\n",
            "INFO:werkzeug:\u001b[33mPress CTRL+C to quit\u001b[0m\n"
          ]
        },
        {
          "metadata": {
            "tags": null
          },
          "name": "stdout",
          "output_type": "stream",
          "text": [
            "✅ Sending Response: {'category': 2, 'answer': '[CLS]', 'response': \"? Cancer can be caused by any number of causes, including genetic mutations or environmental factors. The most common cause of death in humans and animals are cancers that have been identified as early stage (i) carcinogenic to the body's cells; (<1% chance), (>2% chance), <3%, >4%. In addition there may also exist other types such anaerobic bacteria which produce toxins from their environment causing them to\"}\n"
          ]
        },
        {
          "metadata": {
            "tags": null
          },
          "name": "stderr",
          "output_type": "stream",
          "text": [
            "INFO:werkzeug:127.0.0.1 - - [29/Mar/2025 09:39:06] \"GET /get-response?message=What%20is%20cancer HTTP/1.1\" 200 -\n"
          ]
        },
        {
          "metadata": {
            "tags": null
          },
          "name": "stdout",
          "output_type": "stream",
          "text": [
            "✅ Sending Response: {'category': 5, 'answer': '[CLS]', 'response': \"It's the most common form of heart disease. The cause and severity of it varies greatly from person to individual, but usually occurs in people with an enlarged or inflamed chest cavity (chest pain). People who have had multiple surgeries are at higher risk of developing bronchitis due either direct exposure to asbestos dust that has been exposed through inhalation into their lungs during surgery—or by inhaling fumes produced when they breathe\"}\n"
          ]
        },
        {
          "metadata": {
            "tags": null
          },
          "name": "stderr",
          "output_type": "stream",
          "text": [
            "INFO:werkzeug:127.0.0.1 - - [29/Mar/2025 09:48:40] \"GET /get-response?message=What%20is%20lung%20cancer? HTTP/1.1\" 200 -\n"
          ]
        }
      ],
      "source": [
        "from flask import Flask, request, jsonify\n",
        "from transformers import AutoTokenizer, AutoModelForSequenceClassification, AutoModelForQuestionAnswering, GPT2LMHeadModel, GPT2Tokenizer\n",
        "from pyngrok import ngrok\n",
        "import torch\n",
        "from flask_cors import CORS # Enable cross-origin requests\n",
        "import random\n",
        "\n",
        "torch.cuda.empty_cache()\n",
        "# Set up a tunnel on the port where Flask runs (default is 5000)\n",
        "public_url = ngrok.connect(5000)\n",
        "print(\"🔗 ngrok tunnel URL:\", public_url, flush=True)\n",
        "# Initialize Flask app\n",
        "app = Flask(__name__)\n",
        "CORS(app) # Allow requests from client-side\n",
        "# Check if a GPU (CUDA) is available\n",
        "device = torch.device(\"cuda\" if torch.cuda.is_available() else \"cpu\")\n",
        "print(f\"🖥️ Using device: {device}\", flush=True)\n",
        "# Model paths\n",
        "MODEL_PATHS = {\n",
        "'classification': \"/content/drive/MyDrive/dl/biobert_classification\",\n",
        "'qa': \"/content/drive/MyDrive/dl/biobert_qa_model\",\n",
        "'gpt2': \"/content/drive/MyDrive/dl/fine_tuned_gpt2\"\n",
        "}\n",
        "# Load models and tokenizers\n",
        "cls_tokenizer = AutoTokenizer.from_pretrained(MODEL_PATHS['classification'])\n",
        "cls_model = AutoModelForSequenceClassification.from_pretrained(MODEL_PATHS['classification']).to(device)\n",
        "qa_tokenizer = AutoTokenizer.from_pretrained(MODEL_PATHS['qa'])\n",
        "qa_model = AutoModelForQuestionAnswering.from_pretrained(MODEL_PATHS['qa']).to(device)\n",
        "gpt2_tokenizer = GPT2Tokenizer.from_pretrained(MODEL_PATHS['gpt2'])\n",
        "gpt2_tokenizer.pad_token = gpt2_tokenizer.eos_token\n",
        "gpt2_model = GPT2LMHeadModel.from_pretrained(MODEL_PATHS['gpt2']).to(device)\n",
        "\n",
        "def generate_patient_profile():\n",
        "    \"\"\"\n",
        "    Generate a comprehensive patient profile with randomized but realistic medical details\n",
        "    \"\"\"\n",
        "    # Predefined lists for randomization\n",
        "    cancer_types = ['Breast', 'Lung', 'Prostate', 'Colorectal', 'Pancreatic']\n",
        "    cancer_stages = ['I', 'II', 'III', 'IV']\n",
        "    treatment_options = [\n",
        "        {'name': 'Hormone Therapy', 'confidence': 52.0},\n",
        "        {'name': 'Radiation Therapy', 'confidence': 18.0},\n",
        "        {'name': 'Surgery', 'confidence': 17.0},\n",
        "        {'name': 'Chemotherapy', 'confidence': 13.0}\n",
        "    ]\n",
        "\n",
        "    # Generate patient profile\n",
        "    profile = {\n",
        "        'PATIENT PROFILE': {\n",
        "            'Age': random.randint(45, 75),\n",
        "            'Cancer Type': random.choice(cancer_types),\n",
        "            'Stage': random.choice(cancer_stages),\n",
        "            'Metastasis': random.choice([True, False]),\n",
        "            'Tumor Size': round(random.uniform(1.0, 5.0), 1),\n",
        "            'Previous Treatment': random.choice([True, False]),\n",
        "            'Comorbidity Score': random.randint(0, 3),\n",
        "            'Genetic Markers': {\n",
        "                'Marker 1': random.choice(['Positive', 'Negative']),\n",
        "                'Marker 2': random.choice(['Positive', 'Negative'])\n",
        "            },\n",
        "            'Performance Status': random.randint(0, 2)\n",
        "        },\n",
        "        'RECOMMENDED TREATMENT': {},\n",
        "        'ALTERNATIVE TREATMENT OPTIONS': [],\n",
        "        'FOLLOW-UP PLAN': {\n",
        "            'Schedule': 'Every 3 months for the first 2 years',\n",
        "            'Recommended tests': [\n",
        "                'Blood work',\n",
        "                'Imaging',\n",
        "                'Physical examination'\n",
        "            ]\n",
        "        }\n",
        "    }\n",
        "\n",
        "    # Select primary treatment\n",
        "    primary_treatment = max(treatment_options, key=lambda x: x['confidence'])\n",
        "    profile['RECOMMENDED TREATMENT'] = {\n",
        "        'Treatment': primary_treatment['name'],\n",
        "        'Confidence': primary_treatment['confidence']\n",
        "    }\n",
        "\n",
        "    # Select alternative treatments (excluding primary)\n",
        "    alternative_treatments = [\n",
        "        opt for opt in treatment_options\n",
        "        if opt['name'] != primary_treatment['name']\n",
        "    ]\n",
        "    profile['ALTERNATIVE TREATMENT OPTIONS'] = [\n",
        "        f\"{t['name']} (Confidence: {t['confidence']}%)\"\n",
        "        for t in sorted(alternative_treatments, key=lambda x: x['confidence'], reverse=True)[:3]\n",
        "    ]\n",
        "\n",
        "    return profile\n",
        "\n",
        "@app.route(\"/get-response\", methods=[\"GET\"])\n",
        "def get_response():\n",
        "    message = request.args.get('message')\n",
        "    if not message:\n",
        "        return jsonify({\"error\": \"Message parameter is missing\"}), 400\n",
        "\n",
        "    # Check if the message is related to patient profile\n",
        "    if 'profile' in message.lower():\n",
        "        # Generate and return patient profile\n",
        "        profile = generate_patient_profile()\n",
        "\n",
        "        # Format the response to match the desired output style\n",
        "        formatted_response = \"PATIENT PROFILE: \" + \\\n",
        "            \"-\" * 50 + \"\\n\" + \\\n",
        "            \"\\n\".join([f\"{k}: {v}\" for k, v in profile['PATIENT PROFILE'].items() if k != 'Genetic Markers']) + \\\n",
        "            \"\\nGenetic Markers:\\n\" + \\\n",
        "            \"\\n\".join([f\"  {k}: {v}\" for k, v in profile['PATIENT PROFILE']['Genetic Markers'].items()]) + \\\n",
        "            \"\\n\\nRECOMMENDED TREATMENT: \" + \\\n",
        "            \"-\" * 50 + \"\\n\" + \\\n",
        "            f\"Treatment: {profile['RECOMMENDED TREATMENT']['Treatment']}\\n\" + \\\n",
        "            f\"Confidence: {profile['RECOMMENDED TREATMENT']['Confidence']}%\\n\\n\" + \\\n",
        "            \"ALTERNATIVE TREATMENT OPTIONS: \" + \\\n",
        "            \"-\" * 50 + \"\\n\" + \\\n",
        "            \"\\n\".join([f\"{i+1}. {opt}\" for i, opt in enumerate(profile['ALTERNATIVE TREATMENT OPTIONS'])]) + \\\n",
        "            \"\\n\\nFOLLOW-UP PLAN: \" + \\\n",
        "            \"-\" * 50 + \"\\n\" + \\\n",
        "            f\"Schedule: {profile['FOLLOW-UP PLAN']['Schedule']}\\n\" + \\\n",
        "            \"Recommended tests:\\n\" + \\\n",
        "            \"\\n\".join([f\"- {test}\" for test in profile['FOLLOW-UP PLAN']['Recommended tests']])\n",
        "\n",
        "        return jsonify({\n",
        "            'raw_profile': profile,\n",
        "            'formatted_profile': formatted_response,\n",
        "            'response': formatted_response\n",
        "        })\n",
        "\n",
        "    # Classification\n",
        "    inputs = cls_tokenizer(message, return_tensors=\"pt\", truncation=True, padding=True).to(device)\n",
        "    with torch.no_grad():\n",
        "        outputs = cls_model(**inputs)\n",
        "        category = torch.argmax(outputs.logits).item()\n",
        "\n",
        "    # Question Answering - Using a real medical context\n",
        "    context = \"\"\"\n",
        "Cancer is a disease characterized by the uncontrolled growth of abnormal cells in the body.\n",
        "These cells can invade nearby tissues and spread through the blood and lymph systems.\n",
        "Common types of cancer include breast cancer, lung cancer, and leukemia.\n",
        "\n",
        "Cancer begins when genetic changes interfere with the normal cell growth and division process. Cells begin to grow uncontrollably, forming masses called tumors (except in blood cancers). Tumors can be benign (non-cancerous) or malignant (cancerous). Malignant tumors can invade nearby tissues and spread to distant parts of the body.\n",
        "\n",
        "Cancer types include carcinomas (arising from epithelial cells), sarcomas (developing in connective tissues), leukemias (cancers of blood-forming tissues), lymphomas (cancers of the lymphatic system), myelomas (cancers of plasma cells), and CNS cancers (tumors in the brain or spinal cord).\n",
        "\n",
        "Cancer staging describes the extent of the cancer: Stage 0 (carcinoma in situ), Stage I (small and contained), Stages II & III (larger with possible spread to surrounding tissues), and Stage IV (metastasized to distant organs).\n",
        "\n",
        "Risk factors include age, tobacco use, sun exposure, radiation exposure, certain chemicals, chronic inflammation, obesity, alcohol consumption, certain infections, and genetic predisposition.\n",
        "\n",
        "Diagnosis typically involves physical examination, medical history, imaging tests, laboratory tests, biopsy, genetic testing, and endoscopy procedures.\n",
        "\n",
        "Treatment options include surgery, radiation therapy, chemotherapy, immunotherapy, targeted therapy, hormone therapy, stem cell transplant, and precision medicine approaches.\n",
        "\n",
        "Prevention strategies include avoiding tobacco, maintaining a healthy weight, regular physical activity, healthy diet, limited alcohol consumption, sun protection, vaccination against cancer-causing infections, regular screening, and knowing family history.\n",
        "\n",
        "Survival rates vary widely depending on cancer type, stage at diagnosis, age, overall health, and response to treatment. Five-year survival rates range from over 90% for some early-stage cancers to under 10% for certain advanced cancers.\n",
        "\n",
        "Recent treatment advances include CAR T-cell therapy, oncolytic virus therapy, CRISPR gene editing, liquid biopsies, AI-assisted diagnostics, novel combination therapies, and personalized cancer vaccines.\n",
        "\"\"\"\n",
        "    inputs_qa = qa_tokenizer(message, context, return_tensors=\"pt\", truncation=True, max_length=512).to(device)\n",
        "    with torch.no_grad():\n",
        "        outputs_qa = qa_model(**inputs_qa)\n",
        "        answer_start = torch.argmax(outputs_qa.start_logits)\n",
        "        answer_end = torch.argmax(outputs_qa.end_logits) + 1\n",
        "        answer = (\n",
        "            qa_tokenizer.convert_tokens_to_string(\n",
        "                qa_tokenizer.convert_ids_to_tokens(inputs_qa[\"input_ids\"][0][answer_start:answer_end])\n",
        "            )\n",
        "            if answer_end > answer_start\n",
        "            else \"No clear answer found\"\n",
        "        )\n",
        "\n",
        "    # GPT-2 Refinement\n",
        "    prompt = f\"Rephrase this medical information for a doctor:\\n{message}\"\n",
        "    inputs_gpt2 = gpt2_tokenizer(prompt, return_tensors=\"pt\", padding=True, truncation=True).to(device)\n",
        "    outputs_gpt2 = gpt2_model.generate(\n",
        "        input_ids=inputs_gpt2[\"input_ids\"],\n",
        "        attention_mask=inputs_gpt2[\"attention_mask\"],\n",
        "        max_length=100,\n",
        "        num_return_sequences=1,\n",
        "        temperature=0.5,\n",
        "        top_k=50,\n",
        "        repetition_penalty=1.2,\n",
        "        pad_token_id=gpt2_tokenizer.eos_token_id\n",
        "    )\n",
        "    refined_text = gpt2_tokenizer.decode(outputs_gpt2[0], skip_special_tokens=True).replace(prompt, \"\").strip()\n",
        "\n",
        "    # Match response key with client-side expectation\n",
        "    response_data = {\n",
        "        \"category\": category,\n",
        "        \"answer\": answer,\n",
        "        \"response\": refined_text\n",
        "    }\n",
        "    print(\"✅ Sending Response:\", response_data, flush=True)  # Debugging print\n",
        "\n",
        "    # Return response with correct headers\n",
        "    return jsonify(response_data), 200\n",
        "\n",
        "if __name__ == '__main__':\n",
        "    app.run(port=5000, debug=True, use_reloader=False)"
      ]
    },
    {
      "cell_type": "code",
      "source": [
        "!lsof -i :5000\n",
        "!kill 19707\n",
        "!pip install transformers datasets torch matplotlib datasets\n",
        "!pip install flask torch datasets\n",
        "!pip install flask-cors\n",
        "!pip install pyngrok\n",
        "!pip install flask-ngrok CORS\n",
        "!ngrok config add-authtoken"
      ],
      "metadata": {
        "colab": {
          "base_uri": "https://localhost:8080/",
          "height": 1000
        },
        "id": "C0d_f96ntPXJ",
        "outputId": "c2350b92-767d-45fe-9f59-e87543fd941f"
      },
      "execution_count": 1,
      "outputs": [
        {
          "output_type": "stream",
          "name": "stdout",
          "text": [
            "/bin/bash: line 1: kill: (19707) - No such process\n",
            "Requirement already satisfied: transformers in /usr/local/lib/python3.11/dist-packages (4.50.0)\n",
            "Requirement already satisfied: datasets in /usr/local/lib/python3.11/dist-packages (3.5.0)\n",
            "Requirement already satisfied: torch in /usr/local/lib/python3.11/dist-packages (2.6.0+cu124)\n",
            "Requirement already satisfied: matplotlib in /usr/local/lib/python3.11/dist-packages (3.10.0)\n",
            "Requirement already satisfied: filelock in /usr/local/lib/python3.11/dist-packages (from transformers) (3.18.0)\n",
            "Requirement already satisfied: huggingface-hub<1.0,>=0.26.0 in /usr/local/lib/python3.11/dist-packages (from transformers) (0.29.3)\n",
            "Requirement already satisfied: numpy>=1.17 in /usr/local/lib/python3.11/dist-packages (from transformers) (2.0.2)\n",
            "Requirement already satisfied: packaging>=20.0 in /usr/local/lib/python3.11/dist-packages (from transformers) (24.2)\n",
            "Requirement already satisfied: pyyaml>=5.1 in /usr/local/lib/python3.11/dist-packages (from transformers) (6.0.2)\n",
            "Requirement already satisfied: regex!=2019.12.17 in /usr/local/lib/python3.11/dist-packages (from transformers) (2024.11.6)\n",
            "Requirement already satisfied: requests in /usr/local/lib/python3.11/dist-packages (from transformers) (2.32.3)\n",
            "Requirement already satisfied: tokenizers<0.22,>=0.21 in /usr/local/lib/python3.11/dist-packages (from transformers) (0.21.1)\n",
            "Requirement already satisfied: safetensors>=0.4.3 in /usr/local/lib/python3.11/dist-packages (from transformers) (0.5.3)\n",
            "Requirement already satisfied: tqdm>=4.27 in /usr/local/lib/python3.11/dist-packages (from transformers) (4.67.1)\n",
            "Requirement already satisfied: pyarrow>=15.0.0 in /usr/local/lib/python3.11/dist-packages (from datasets) (18.1.0)\n",
            "Requirement already satisfied: dill<0.3.9,>=0.3.0 in /usr/local/lib/python3.11/dist-packages (from datasets) (0.3.8)\n",
            "Requirement already satisfied: pandas in /usr/local/lib/python3.11/dist-packages (from datasets) (2.2.2)\n",
            "Requirement already satisfied: xxhash in /usr/local/lib/python3.11/dist-packages (from datasets) (3.5.0)\n",
            "Requirement already satisfied: multiprocess<0.70.17 in /usr/local/lib/python3.11/dist-packages (from datasets) (0.70.16)\n",
            "Requirement already satisfied: fsspec<=2024.12.0,>=2023.1.0 in /usr/local/lib/python3.11/dist-packages (from fsspec[http]<=2024.12.0,>=2023.1.0->datasets) (2024.12.0)\n",
            "Requirement already satisfied: aiohttp in /usr/local/lib/python3.11/dist-packages (from datasets) (3.11.14)\n",
            "Requirement already satisfied: typing-extensions>=4.10.0 in /usr/local/lib/python3.11/dist-packages (from torch) (4.12.2)\n",
            "Requirement already satisfied: networkx in /usr/local/lib/python3.11/dist-packages (from torch) (3.4.2)\n",
            "Requirement already satisfied: jinja2 in /usr/local/lib/python3.11/dist-packages (from torch) (3.1.6)\n",
            "Requirement already satisfied: nvidia-cuda-nvrtc-cu12==12.4.127 in /usr/local/lib/python3.11/dist-packages (from torch) (12.4.127)\n",
            "Requirement already satisfied: nvidia-cuda-runtime-cu12==12.4.127 in /usr/local/lib/python3.11/dist-packages (from torch) (12.4.127)\n",
            "Requirement already satisfied: nvidia-cuda-cupti-cu12==12.4.127 in /usr/local/lib/python3.11/dist-packages (from torch) (12.4.127)\n",
            "Requirement already satisfied: nvidia-cudnn-cu12==9.1.0.70 in /usr/local/lib/python3.11/dist-packages (from torch) (9.1.0.70)\n",
            "Requirement already satisfied: nvidia-cublas-cu12==12.4.5.8 in /usr/local/lib/python3.11/dist-packages (from torch) (12.4.5.8)\n",
            "Requirement already satisfied: nvidia-cufft-cu12==11.2.1.3 in /usr/local/lib/python3.11/dist-packages (from torch) (11.2.1.3)\n",
            "Requirement already satisfied: nvidia-curand-cu12==10.3.5.147 in /usr/local/lib/python3.11/dist-packages (from torch) (10.3.5.147)\n",
            "Requirement already satisfied: nvidia-cusolver-cu12==11.6.1.9 in /usr/local/lib/python3.11/dist-packages (from torch) (11.6.1.9)\n",
            "Requirement already satisfied: nvidia-cusparse-cu12==12.3.1.170 in /usr/local/lib/python3.11/dist-packages (from torch) (12.3.1.170)\n",
            "Requirement already satisfied: nvidia-cusparselt-cu12==0.6.2 in /usr/local/lib/python3.11/dist-packages (from torch) (0.6.2)\n",
            "Requirement already satisfied: nvidia-nccl-cu12==2.21.5 in /usr/local/lib/python3.11/dist-packages (from torch) (2.21.5)\n",
            "Requirement already satisfied: nvidia-nvtx-cu12==12.4.127 in /usr/local/lib/python3.11/dist-packages (from torch) (12.4.127)\n",
            "Requirement already satisfied: nvidia-nvjitlink-cu12==12.4.127 in /usr/local/lib/python3.11/dist-packages (from torch) (12.4.127)\n",
            "Requirement already satisfied: triton==3.2.0 in /usr/local/lib/python3.11/dist-packages (from torch) (3.2.0)\n",
            "Requirement already satisfied: sympy==1.13.1 in /usr/local/lib/python3.11/dist-packages (from torch) (1.13.1)\n",
            "Requirement already satisfied: mpmath<1.4,>=1.1.0 in /usr/local/lib/python3.11/dist-packages (from sympy==1.13.1->torch) (1.3.0)\n",
            "Requirement already satisfied: contourpy>=1.0.1 in /usr/local/lib/python3.11/dist-packages (from matplotlib) (1.3.1)\n",
            "Requirement already satisfied: cycler>=0.10 in /usr/local/lib/python3.11/dist-packages (from matplotlib) (0.12.1)\n",
            "Requirement already satisfied: fonttools>=4.22.0 in /usr/local/lib/python3.11/dist-packages (from matplotlib) (4.56.0)\n",
            "Requirement already satisfied: kiwisolver>=1.3.1 in /usr/local/lib/python3.11/dist-packages (from matplotlib) (1.4.8)\n",
            "Requirement already satisfied: pillow>=8 in /usr/local/lib/python3.11/dist-packages (from matplotlib) (11.1.0)\n",
            "Requirement already satisfied: pyparsing>=2.3.1 in /usr/local/lib/python3.11/dist-packages (from matplotlib) (3.2.1)\n",
            "Requirement already satisfied: python-dateutil>=2.7 in /usr/local/lib/python3.11/dist-packages (from matplotlib) (2.8.2)\n",
            "Requirement already satisfied: aiohappyeyeballs>=2.3.0 in /usr/local/lib/python3.11/dist-packages (from aiohttp->datasets) (2.6.1)\n",
            "Requirement already satisfied: aiosignal>=1.1.2 in /usr/local/lib/python3.11/dist-packages (from aiohttp->datasets) (1.3.2)\n",
            "Requirement already satisfied: attrs>=17.3.0 in /usr/local/lib/python3.11/dist-packages (from aiohttp->datasets) (25.3.0)\n",
            "Requirement already satisfied: frozenlist>=1.1.1 in /usr/local/lib/python3.11/dist-packages (from aiohttp->datasets) (1.5.0)\n",
            "Requirement already satisfied: multidict<7.0,>=4.5 in /usr/local/lib/python3.11/dist-packages (from aiohttp->datasets) (6.2.0)\n",
            "Requirement already satisfied: propcache>=0.2.0 in /usr/local/lib/python3.11/dist-packages (from aiohttp->datasets) (0.3.0)\n",
            "Requirement already satisfied: yarl<2.0,>=1.17.0 in /usr/local/lib/python3.11/dist-packages (from aiohttp->datasets) (1.18.3)\n",
            "Requirement already satisfied: six>=1.5 in /usr/local/lib/python3.11/dist-packages (from python-dateutil>=2.7->matplotlib) (1.17.0)\n",
            "Requirement already satisfied: charset-normalizer<4,>=2 in /usr/local/lib/python3.11/dist-packages (from requests->transformers) (3.4.1)\n",
            "Requirement already satisfied: idna<4,>=2.5 in /usr/local/lib/python3.11/dist-packages (from requests->transformers) (3.10)\n",
            "Requirement already satisfied: urllib3<3,>=1.21.1 in /usr/local/lib/python3.11/dist-packages (from requests->transformers) (2.3.0)\n",
            "Requirement already satisfied: certifi>=2017.4.17 in /usr/local/lib/python3.11/dist-packages (from requests->transformers) (2025.1.31)\n",
            "Requirement already satisfied: MarkupSafe>=2.0 in /usr/local/lib/python3.11/dist-packages (from jinja2->torch) (3.0.2)\n",
            "Requirement already satisfied: pytz>=2020.1 in /usr/local/lib/python3.11/dist-packages (from pandas->datasets) (2025.1)\n",
            "Requirement already satisfied: tzdata>=2022.7 in /usr/local/lib/python3.11/dist-packages (from pandas->datasets) (2025.1)\n",
            "Requirement already satisfied: flask in /usr/local/lib/python3.11/dist-packages (3.1.0)\n",
            "Requirement already satisfied: torch in /usr/local/lib/python3.11/dist-packages (2.6.0+cu124)\n",
            "Requirement already satisfied: datasets in /usr/local/lib/python3.11/dist-packages (3.5.0)\n",
            "Requirement already satisfied: Werkzeug>=3.1 in /usr/local/lib/python3.11/dist-packages (from flask) (3.1.3)\n",
            "Requirement already satisfied: Jinja2>=3.1.2 in /usr/local/lib/python3.11/dist-packages (from flask) (3.1.6)\n",
            "Requirement already satisfied: itsdangerous>=2.2 in /usr/local/lib/python3.11/dist-packages (from flask) (2.2.0)\n",
            "Requirement already satisfied: click>=8.1.3 in /usr/local/lib/python3.11/dist-packages (from flask) (8.1.8)\n",
            "Requirement already satisfied: blinker>=1.9 in /usr/local/lib/python3.11/dist-packages (from flask) (1.9.0)\n",
            "Requirement already satisfied: filelock in /usr/local/lib/python3.11/dist-packages (from torch) (3.18.0)\n",
            "Requirement already satisfied: typing-extensions>=4.10.0 in /usr/local/lib/python3.11/dist-packages (from torch) (4.12.2)\n",
            "Requirement already satisfied: networkx in /usr/local/lib/python3.11/dist-packages (from torch) (3.4.2)\n",
            "Requirement already satisfied: fsspec in /usr/local/lib/python3.11/dist-packages (from torch) (2024.12.0)\n",
            "Requirement already satisfied: nvidia-cuda-nvrtc-cu12==12.4.127 in /usr/local/lib/python3.11/dist-packages (from torch) (12.4.127)\n",
            "Requirement already satisfied: nvidia-cuda-runtime-cu12==12.4.127 in /usr/local/lib/python3.11/dist-packages (from torch) (12.4.127)\n",
            "Requirement already satisfied: nvidia-cuda-cupti-cu12==12.4.127 in /usr/local/lib/python3.11/dist-packages (from torch) (12.4.127)\n",
            "Requirement already satisfied: nvidia-cudnn-cu12==9.1.0.70 in /usr/local/lib/python3.11/dist-packages (from torch) (9.1.0.70)\n",
            "Requirement already satisfied: nvidia-cublas-cu12==12.4.5.8 in /usr/local/lib/python3.11/dist-packages (from torch) (12.4.5.8)\n",
            "Requirement already satisfied: nvidia-cufft-cu12==11.2.1.3 in /usr/local/lib/python3.11/dist-packages (from torch) (11.2.1.3)\n",
            "Requirement already satisfied: nvidia-curand-cu12==10.3.5.147 in /usr/local/lib/python3.11/dist-packages (from torch) (10.3.5.147)\n",
            "Requirement already satisfied: nvidia-cusolver-cu12==11.6.1.9 in /usr/local/lib/python3.11/dist-packages (from torch) (11.6.1.9)\n",
            "Requirement already satisfied: nvidia-cusparse-cu12==12.3.1.170 in /usr/local/lib/python3.11/dist-packages (from torch) (12.3.1.170)\n",
            "Requirement already satisfied: nvidia-cusparselt-cu12==0.6.2 in /usr/local/lib/python3.11/dist-packages (from torch) (0.6.2)\n",
            "Requirement already satisfied: nvidia-nccl-cu12==2.21.5 in /usr/local/lib/python3.11/dist-packages (from torch) (2.21.5)\n",
            "Requirement already satisfied: nvidia-nvtx-cu12==12.4.127 in /usr/local/lib/python3.11/dist-packages (from torch) (12.4.127)\n",
            "Requirement already satisfied: nvidia-nvjitlink-cu12==12.4.127 in /usr/local/lib/python3.11/dist-packages (from torch) (12.4.127)\n",
            "Requirement already satisfied: triton==3.2.0 in /usr/local/lib/python3.11/dist-packages (from torch) (3.2.0)\n",
            "Requirement already satisfied: sympy==1.13.1 in /usr/local/lib/python3.11/dist-packages (from torch) (1.13.1)\n",
            "Requirement already satisfied: mpmath<1.4,>=1.1.0 in /usr/local/lib/python3.11/dist-packages (from sympy==1.13.1->torch) (1.3.0)\n",
            "Requirement already satisfied: numpy>=1.17 in /usr/local/lib/python3.11/dist-packages (from datasets) (2.0.2)\n",
            "Requirement already satisfied: pyarrow>=15.0.0 in /usr/local/lib/python3.11/dist-packages (from datasets) (18.1.0)\n",
            "Requirement already satisfied: dill<0.3.9,>=0.3.0 in /usr/local/lib/python3.11/dist-packages (from datasets) (0.3.8)\n",
            "Requirement already satisfied: pandas in /usr/local/lib/python3.11/dist-packages (from datasets) (2.2.2)\n",
            "Requirement already satisfied: requests>=2.32.2 in /usr/local/lib/python3.11/dist-packages (from datasets) (2.32.3)\n",
            "Requirement already satisfied: tqdm>=4.66.3 in /usr/local/lib/python3.11/dist-packages (from datasets) (4.67.1)\n",
            "Requirement already satisfied: xxhash in /usr/local/lib/python3.11/dist-packages (from datasets) (3.5.0)\n",
            "Requirement already satisfied: multiprocess<0.70.17 in /usr/local/lib/python3.11/dist-packages (from datasets) (0.70.16)\n",
            "Requirement already satisfied: aiohttp in /usr/local/lib/python3.11/dist-packages (from datasets) (3.11.14)\n",
            "Requirement already satisfied: huggingface-hub>=0.24.0 in /usr/local/lib/python3.11/dist-packages (from datasets) (0.29.3)\n",
            "Requirement already satisfied: packaging in /usr/local/lib/python3.11/dist-packages (from datasets) (24.2)\n",
            "Requirement already satisfied: pyyaml>=5.1 in /usr/local/lib/python3.11/dist-packages (from datasets) (6.0.2)\n",
            "Requirement already satisfied: aiohappyeyeballs>=2.3.0 in /usr/local/lib/python3.11/dist-packages (from aiohttp->datasets) (2.6.1)\n",
            "Requirement already satisfied: aiosignal>=1.1.2 in /usr/local/lib/python3.11/dist-packages (from aiohttp->datasets) (1.3.2)\n",
            "Requirement already satisfied: attrs>=17.3.0 in /usr/local/lib/python3.11/dist-packages (from aiohttp->datasets) (25.3.0)\n",
            "Requirement already satisfied: frozenlist>=1.1.1 in /usr/local/lib/python3.11/dist-packages (from aiohttp->datasets) (1.5.0)\n",
            "Requirement already satisfied: multidict<7.0,>=4.5 in /usr/local/lib/python3.11/dist-packages (from aiohttp->datasets) (6.2.0)\n",
            "Requirement already satisfied: propcache>=0.2.0 in /usr/local/lib/python3.11/dist-packages (from aiohttp->datasets) (0.3.0)\n",
            "Requirement already satisfied: yarl<2.0,>=1.17.0 in /usr/local/lib/python3.11/dist-packages (from aiohttp->datasets) (1.18.3)\n",
            "Requirement already satisfied: MarkupSafe>=2.0 in /usr/local/lib/python3.11/dist-packages (from Jinja2>=3.1.2->flask) (3.0.2)\n",
            "Requirement already satisfied: charset-normalizer<4,>=2 in /usr/local/lib/python3.11/dist-packages (from requests>=2.32.2->datasets) (3.4.1)\n",
            "Requirement already satisfied: idna<4,>=2.5 in /usr/local/lib/python3.11/dist-packages (from requests>=2.32.2->datasets) (3.10)\n",
            "Requirement already satisfied: urllib3<3,>=1.21.1 in /usr/local/lib/python3.11/dist-packages (from requests>=2.32.2->datasets) (2.3.0)\n",
            "Requirement already satisfied: certifi>=2017.4.17 in /usr/local/lib/python3.11/dist-packages (from requests>=2.32.2->datasets) (2025.1.31)\n",
            "Requirement already satisfied: python-dateutil>=2.8.2 in /usr/local/lib/python3.11/dist-packages (from pandas->datasets) (2.8.2)\n",
            "Requirement already satisfied: pytz>=2020.1 in /usr/local/lib/python3.11/dist-packages (from pandas->datasets) (2025.1)\n",
            "Requirement already satisfied: tzdata>=2022.7 in /usr/local/lib/python3.11/dist-packages (from pandas->datasets) (2025.1)\n",
            "Requirement already satisfied: six>=1.5 in /usr/local/lib/python3.11/dist-packages (from python-dateutil>=2.8.2->pandas->datasets) (1.17.0)\n",
            "Requirement already satisfied: flask-cors in /usr/local/lib/python3.11/dist-packages (5.0.1)\n",
            "Requirement already satisfied: flask>=0.9 in /usr/local/lib/python3.11/dist-packages (from flask-cors) (3.1.0)\n",
            "Requirement already satisfied: Werkzeug>=0.7 in /usr/local/lib/python3.11/dist-packages (from flask-cors) (3.1.3)\n",
            "Requirement already satisfied: Jinja2>=3.1.2 in /usr/local/lib/python3.11/dist-packages (from flask>=0.9->flask-cors) (3.1.6)\n",
            "Requirement already satisfied: itsdangerous>=2.2 in /usr/local/lib/python3.11/dist-packages (from flask>=0.9->flask-cors) (2.2.0)\n",
            "Requirement already satisfied: click>=8.1.3 in /usr/local/lib/python3.11/dist-packages (from flask>=0.9->flask-cors) (8.1.8)\n",
            "Requirement already satisfied: blinker>=1.9 in /usr/local/lib/python3.11/dist-packages (from flask>=0.9->flask-cors) (1.9.0)\n",
            "Requirement already satisfied: MarkupSafe>=2.1.1 in /usr/local/lib/python3.11/dist-packages (from Werkzeug>=0.7->flask-cors) (3.0.2)\n",
            "Requirement already satisfied: pyngrok in /usr/local/lib/python3.11/dist-packages (7.2.3)\n",
            "Requirement already satisfied: PyYAML>=5.1 in /usr/local/lib/python3.11/dist-packages (from pyngrok) (6.0.2)\n",
            "Requirement already satisfied: flask-ngrok in /usr/local/lib/python3.11/dist-packages (0.0.25)\n",
            "Requirement already satisfied: CORS in /usr/local/lib/python3.11/dist-packages (1.0.1)\n",
            "Requirement already satisfied: Flask>=0.8 in /usr/local/lib/python3.11/dist-packages (from flask-ngrok) (3.1.0)\n",
            "Requirement already satisfied: requests in /usr/local/lib/python3.11/dist-packages (from flask-ngrok) (2.32.3)\n",
            "Requirement already satisfied: colorama in /usr/local/lib/python3.11/dist-packages (from CORS) (0.4.6)\n",
            "Collecting argparse (from CORS)\n",
            "  Using cached argparse-1.4.0-py2.py3-none-any.whl.metadata (2.8 kB)\n",
            "Requirement already satisfied: gevent in /usr/local/lib/python3.11/dist-packages (from CORS) (24.11.1)\n",
            "Requirement already satisfied: tldextract in /usr/local/lib/python3.11/dist-packages (from CORS) (5.1.3)\n",
            "Requirement already satisfied: future in /usr/local/lib/python3.11/dist-packages (from CORS) (1.0.0)\n",
            "Requirement already satisfied: PySocks in /usr/local/lib/python3.11/dist-packages (from CORS) (1.7.1)\n",
            "Requirement already satisfied: Werkzeug>=3.1 in /usr/local/lib/python3.11/dist-packages (from Flask>=0.8->flask-ngrok) (3.1.3)\n",
            "Requirement already satisfied: Jinja2>=3.1.2 in /usr/local/lib/python3.11/dist-packages (from Flask>=0.8->flask-ngrok) (3.1.6)\n",
            "Requirement already satisfied: itsdangerous>=2.2 in /usr/local/lib/python3.11/dist-packages (from Flask>=0.8->flask-ngrok) (2.2.0)\n",
            "Requirement already satisfied: click>=8.1.3 in /usr/local/lib/python3.11/dist-packages (from Flask>=0.8->flask-ngrok) (8.1.8)\n",
            "Requirement already satisfied: blinker>=1.9 in /usr/local/lib/python3.11/dist-packages (from Flask>=0.8->flask-ngrok) (1.9.0)\n",
            "Requirement already satisfied: zope.event in /usr/local/lib/python3.11/dist-packages (from gevent->CORS) (5.0)\n",
            "Requirement already satisfied: zope.interface in /usr/local/lib/python3.11/dist-packages (from gevent->CORS) (7.2)\n",
            "Requirement already satisfied: greenlet>=3.1.1 in /usr/local/lib/python3.11/dist-packages (from gevent->CORS) (3.1.1)\n",
            "Requirement already satisfied: charset-normalizer<4,>=2 in /usr/local/lib/python3.11/dist-packages (from requests->flask-ngrok) (3.4.1)\n",
            "Requirement already satisfied: idna<4,>=2.5 in /usr/local/lib/python3.11/dist-packages (from requests->flask-ngrok) (3.10)\n",
            "Requirement already satisfied: urllib3<3,>=1.21.1 in /usr/local/lib/python3.11/dist-packages (from requests->flask-ngrok) (2.3.0)\n",
            "Requirement already satisfied: certifi>=2017.4.17 in /usr/local/lib/python3.11/dist-packages (from requests->flask-ngrok) (2025.1.31)\n",
            "Requirement already satisfied: requests-file>=1.4 in /usr/local/lib/python3.11/dist-packages (from tldextract->CORS) (2.1.0)\n",
            "Requirement already satisfied: filelock>=3.0.8 in /usr/local/lib/python3.11/dist-packages (from tldextract->CORS) (3.18.0)\n",
            "Requirement already satisfied: MarkupSafe>=2.0 in /usr/local/lib/python3.11/dist-packages (from Jinja2>=3.1.2->Flask>=0.8->flask-ngrok) (3.0.2)\n",
            "Requirement already satisfied: setuptools in /usr/local/lib/python3.11/dist-packages (from zope.event->gevent->CORS) (75.1.0)\n",
            "Using cached argparse-1.4.0-py2.py3-none-any.whl (23 kB)\n",
            "Installing collected packages: argparse\n",
            "Successfully installed argparse-1.4.0\n"
          ]
        },
        {
          "output_type": "display_data",
          "data": {
            "application/vnd.colab-display-data+json": {
              "pip_warning": {
                "packages": [
                  "argparse"
                ]
              },
              "id": "89d02f8e41d34c5e993252a1c181aad5"
            }
          },
          "metadata": {}
        },
        {
          "output_type": "stream",
          "name": "stdout",
          "text": [
            "Authtoken saved to configuration file: /root/.config/ngrok/ngrok.yml\n"
          ]
        }
      ]
    },
    {
      "cell_type": "code",
      "source": [
        "\n",
        "from google.colab import drive\n",
        "drive.mount('/content/drive')"
      ],
      "metadata": {
        "colab": {
          "base_uri": "https://localhost:8080/"
        },
        "id": "YvYS-dhouuRt",
        "outputId": "bf496e81-a664-4239-8aba-eea22dda17a5"
      },
      "execution_count": 2,
      "outputs": [
        {
          "output_type": "stream",
          "name": "stdout",
          "text": [
            "Mounted at /content/drive\n"
          ]
        }
      ]
    },
    {
      "cell_type": "code",
      "source": [
        "huggingface-cli login"
      ],
      "metadata": {
        "colab": {
          "base_uri": "https://localhost:8080/",
          "height": 106
        },
        "id": "HYgzdS7y02T_",
        "outputId": "6951ddc5-80ed-4c27-b934-07ec5a37297c"
      },
      "execution_count": null,
      "outputs": [
        {
          "output_type": "error",
          "ename": "SyntaxError",
          "evalue": "invalid syntax (<ipython-input-6-f67f8e96d4cc>, line 1)",
          "traceback": [
            "\u001b[0;36m  File \u001b[0;32m\"<ipython-input-6-f67f8e96d4cc>\"\u001b[0;36m, line \u001b[0;32m1\u001b[0m\n\u001b[0;31m    huggingface-cli login\u001b[0m\n\u001b[0m                    ^\u001b[0m\n\u001b[0;31mSyntaxError\u001b[0m\u001b[0;31m:\u001b[0m invalid syntax\n"
          ]
        }
      ]
    }
  ]
}